{
 "cells": [
  {
   "cell_type": "markdown",
   "id": "70bdff65",
   "metadata": {},
   "source": [
    "# Purpose of this notebook\n",
    "- Learn tensorflow reshaping"
   ]
  },
  {
   "cell_type": "code",
   "execution_count": 2,
   "id": "d1ad3653",
   "metadata": {},
   "outputs": [],
   "source": [
    "import tensorflow as tf"
   ]
  },
  {
   "cell_type": "markdown",
   "id": "4ba0daf0",
   "metadata": {},
   "source": [
    "# tf.reshape"
   ]
  },
  {
   "cell_type": "code",
   "execution_count": 4,
   "id": "ec165515",
   "metadata": {},
   "outputs": [
    {
     "name": "stdout",
     "output_type": "stream",
     "text": [
      "tf.Tensor([0 1 2 3 4 5 6 7 8 9], shape=(10,), dtype=int32)\n",
      "tf.Tensor(\n",
      "[[0 1 2 3 4]\n",
      " [5 6 7 8 9]], shape=(2, 5), dtype=int32)\n"
     ]
    }
   ],
   "source": [
    "x = tf.range(10)\n",
    "y = tf.reshape(x, (2, 5))\n",
    "print(x)\n",
    "print(y)"
   ]
  },
  {
   "cell_type": "markdown",
   "id": "9c34aba8",
   "metadata": {},
   "source": [
    "# tf.transpose"
   ]
  },
  {
   "cell_type": "code",
   "execution_count": 6,
   "id": "cf8dd91c",
   "metadata": {},
   "outputs": [
    {
     "name": "stdout",
     "output_type": "stream",
     "text": [
      "tf.Tensor(\n",
      "[[0 1 2 3 4]\n",
      " [5 6 7 8 9]], shape=(2, 5), dtype=int32)\n",
      "tf.Tensor(\n",
      "[[0 5]\n",
      " [1 6]\n",
      " [2 7]\n",
      " [3 8]\n",
      " [4 9]], shape=(5, 2), dtype=int32)\n"
     ]
    }
   ],
   "source": [
    "x = tf.range(10)\n",
    "y = tf.reshape(x, (2, 5))\n",
    "z = tf.transpose(y)\n",
    "print(y)\n",
    "print(z)"
   ]
  }
 ],
 "metadata": {
  "kernelspec": {
   "display_name": ".venv",
   "language": "python",
   "name": "python3"
  },
  "language_info": {
   "codemirror_mode": {
    "name": "ipython",
    "version": 3
   },
   "file_extension": ".py",
   "mimetype": "text/x-python",
   "name": "python",
   "nbconvert_exporter": "python",
   "pygments_lexer": "ipython3",
   "version": "3.9.18"
  }
 },
 "nbformat": 4,
 "nbformat_minor": 5
}
