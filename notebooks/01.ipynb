{
 "cells": [
  {
   "cell_type": "markdown",
   "id": "713d7964",
   "metadata": {},
   "source": [
    "# Purpose of this notebook\n",
    "- Learn to init tensor using tensorflow"
   ]
  },
  {
   "cell_type": "markdown",
   "id": "3114f710",
   "metadata": {},
   "source": [
    "# Import\n",
    "- Before using tensorflow, we need to import it"
   ]
  },
  {
   "cell_type": "code",
   "execution_count": 1,
   "id": "d49349a9-7186-4a81-a985-041f41f91688",
   "metadata": {},
   "outputs": [],
   "source": [
    "import tensorflow as tf"
   ]
  },
  {
   "cell_type": "code",
   "execution_count": null,
   "id": "ab695ada-ccfb-4309-8668-d02f3b26696a",
   "metadata": {},
   "outputs": [],
   "source": [
    "x = tf.constant(4)\n",
    "print(x)"
   ]
  },
  {
   "cell_type": "code",
   "execution_count": null,
   "id": "a9e6fb24-8096-4be7-9055-734361c215ef",
   "metadata": {},
   "outputs": [],
   "source": [
    "x = tf.constant(4.0)\n",
    "print(x)"
   ]
  },
  {
   "cell_type": "markdown",
   "id": "c416c127",
   "metadata": {},
   "source": [
    "# Implicit dtype\n",
    "- notice that `4` will result `dtype=int32`\n",
    "- notice that `4.0` will result `dtype=float32`"
   ]
  },
  {
   "cell_type": "markdown",
   "id": "149ac8d2",
   "metadata": {},
   "source": [
    "# Explicit shape"
   ]
  },
  {
   "cell_type": "code",
   "execution_count": 10,
   "id": "e2829927",
   "metadata": {},
   "outputs": [
    {
     "name": "stdout",
     "output_type": "stream",
     "text": [
      "tf.Tensor([[4]], shape=(1, 1), dtype=int32)\n"
     ]
    }
   ],
   "source": [
    "x = tf.constant(4, shape=(1, 1))\n",
    "print(x)"
   ]
  },
  {
   "cell_type": "markdown",
   "id": "cc22e72d",
   "metadata": {},
   "source": [
    "# Explicit dtype"
   ]
  },
  {
   "cell_type": "code",
   "execution_count": 11,
   "id": "809f118b",
   "metadata": {},
   "outputs": [
    {
     "name": "stdout",
     "output_type": "stream",
     "text": [
      "tf.Tensor(4.0, shape=(), dtype=float32)\n"
     ]
    }
   ],
   "source": [
    "x = tf.constant(4, dtype=tf.float32)\n",
    "print(x)"
   ]
  },
  {
   "cell_type": "markdown",
   "id": "e97f9dab",
   "metadata": {},
   "source": [
    "# Nested array"
   ]
  },
  {
   "cell_type": "code",
   "execution_count": 12,
   "id": "a7ec9721",
   "metadata": {},
   "outputs": [
    {
     "name": "stdout",
     "output_type": "stream",
     "text": [
      "tf.Tensor(\n",
      "[[1 2 3]\n",
      " [4 5 6]], shape=(2, 3), dtype=int32)\n"
     ]
    }
   ],
   "source": [
    "x = tf.constant([[1, 2, 3], [4, 5, 6]])\n",
    "print(x)"
   ]
  },
  {
   "cell_type": "markdown",
   "id": "428f3e34",
   "metadata": {},
   "source": [
    "# tf.ones"
   ]
  },
  {
   "cell_type": "code",
   "execution_count": 13,
   "id": "74b07174",
   "metadata": {},
   "outputs": [
    {
     "name": "stdout",
     "output_type": "stream",
     "text": [
      "tf.Tensor(\n",
      "[[1. 1. 1.]\n",
      " [1. 1. 1.]], shape=(2, 3), dtype=float32)\n"
     ]
    }
   ],
   "source": [
    "x = tf.ones((2, 3))\n",
    "print(x)"
   ]
  },
  {
   "cell_type": "markdown",
   "id": "e07ba461",
   "metadata": {},
   "source": [
    "# tf.zeros  "
   ]
  },
  {
   "cell_type": "code",
   "execution_count": 14,
   "id": "2254a323",
   "metadata": {},
   "outputs": [
    {
     "name": "stdout",
     "output_type": "stream",
     "text": [
      "tf.Tensor(\n",
      "[[0. 0. 0.]\n",
      " [0. 0. 0.]], shape=(2, 3), dtype=float32)\n"
     ]
    }
   ],
   "source": [
    "x = tf.zeros((2, 3))\n",
    "print(x)"
   ]
  },
  {
   "cell_type": "markdown",
   "id": "c4151dba",
   "metadata": {},
   "source": [
    "# tf.eye\n",
    "- I for identity matrix"
   ]
  },
  {
   "cell_type": "code",
   "execution_count": 15,
   "id": "e67969f7",
   "metadata": {},
   "outputs": [
    {
     "name": "stdout",
     "output_type": "stream",
     "text": [
      "tf.Tensor(\n",
      "[[1. 0. 0.]\n",
      " [0. 1. 0.]\n",
      " [0. 0. 1.]], shape=(3, 3), dtype=float32)\n"
     ]
    }
   ],
   "source": [
    "x = tf.eye(3)\n",
    "print(x)"
   ]
  },
  {
   "cell_type": "markdown",
   "id": "8dc8ffeb",
   "metadata": {},
   "source": [
    "# tf.range"
   ]
  },
  {
   "cell_type": "code",
   "execution_count": 16,
   "id": "bfb795c2",
   "metadata": {},
   "outputs": [
    {
     "name": "stdout",
     "output_type": "stream",
     "text": [
      "tf.Tensor([0 1 2 3 4 5 6 7 8 9], shape=(10,), dtype=int32)\n"
     ]
    }
   ],
   "source": [
    "x = tf.range(10)\n",
    "print(x)"
   ]
  },
  {
   "cell_type": "markdown",
   "id": "4147356c",
   "metadata": {},
   "source": [
    "# tf.range"
   ]
  },
  {
   "cell_type": "code",
   "execution_count": 21,
   "id": "55732cc3",
   "metadata": {},
   "outputs": [
    {
     "name": "stdout",
     "output_type": "stream",
     "text": [
      "tf.Tensor([1 3 5 7 9], shape=(5,), dtype=int32)\n"
     ]
    }
   ],
   "source": [
    "x = tf.range(start=1, limit=11, delta=2)\n",
    "print(x)"
   ]
  },
  {
   "cell_type": "markdown",
   "id": "28cfb8bd",
   "metadata": {},
   "source": [
    "# tf.random.normal"
   ]
  },
  {
   "cell_type": "code",
   "execution_count": 18,
   "id": "dff0e9ef",
   "metadata": {},
   "outputs": [
    {
     "name": "stdout",
     "output_type": "stream",
     "text": [
      "tf.Tensor(\n",
      "[[ 0.14399523  1.2897618  -0.36424723]\n",
      " [ 0.50024134 -1.0311455  -1.0337405 ]], shape=(2, 3), dtype=float32)\n"
     ]
    }
   ],
   "source": [
    "x = tf.random.normal((2, 3), mean=0, stddev=1)\n",
    "print(x)"
   ]
  },
  {
   "cell_type": "markdown",
   "id": "efce9ee2",
   "metadata": {},
   "source": [
    "# tf.random.uniform"
   ]
  },
  {
   "cell_type": "code",
   "execution_count": 19,
   "id": "fd0ac3a3",
   "metadata": {},
   "outputs": [
    {
     "name": "stdout",
     "output_type": "stream",
     "text": [
      "tf.Tensor(\n",
      "[[0.31880248 0.52137005 0.76204157]\n",
      " [0.11930776 0.23367226 0.19460702]], shape=(2, 3), dtype=float32)\n"
     ]
    }
   ],
   "source": [
    "x = tf.random.uniform((2, 3), minval=0, maxval=1)\n",
    "print(x)"
   ]
  },
  {
   "cell_type": "markdown",
   "id": "60b1649d",
   "metadata": {},
   "source": [
    "# tf.cast"
   ]
  },
  {
   "cell_type": "code",
   "execution_count": 22,
   "id": "e11ad761",
   "metadata": {},
   "outputs": [
    {
     "name": "stdout",
     "output_type": "stream",
     "text": [
      "tf.Tensor([0 1 2 3 4 5 6 7 8 9], shape=(10,), dtype=int32)\n",
      "tf.Tensor([0. 1. 2. 3. 4. 5. 6. 7. 8. 9.], shape=(10,), dtype=float32)\n"
     ]
    }
   ],
   "source": [
    "x = tf.range(10)\n",
    "print(x)\n",
    "y = tf.cast(x, dtype=tf.float32)\n",
    "print(y)"
   ]
  }
 ],
 "metadata": {
  "kernelspec": {
   "display_name": ".venv",
   "language": "python",
   "name": "python3"
  },
  "language_info": {
   "codemirror_mode": {
    "name": "ipython",
    "version": 3
   },
   "file_extension": ".py",
   "mimetype": "text/x-python",
   "name": "python",
   "nbconvert_exporter": "python",
   "pygments_lexer": "ipython3",
   "version": "3.9.18"
  }
 },
 "nbformat": 4,
 "nbformat_minor": 5
}
