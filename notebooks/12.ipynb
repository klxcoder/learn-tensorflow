{
 "cells": [
  {
   "cell_type": "markdown",
   "id": "8f825c61",
   "metadata": {},
   "source": [
    "# Purpose of this notebook\n",
    "- Use Simple RNN, GRU, LSTM to solve mnist"
   ]
  },
  {
   "cell_type": "markdown",
   "id": "b200e50b",
   "metadata": {},
   "source": [
    "# Import"
   ]
  },
  {
   "cell_type": "code",
   "execution_count": 1,
   "id": "90dc9095",
   "metadata": {},
   "outputs": [],
   "source": [
    "from tensorflow import keras # type: ignore\n",
    "from tensorflow.keras import layers, regularizers # type: ignore\n",
    "from tensorflow.keras.datasets import mnist # type: ignore"
   ]
  },
  {
   "cell_type": "markdown",
   "id": "0ba7034d",
   "metadata": {},
   "source": [
    "# Load data"
   ]
  },
  {
   "cell_type": "code",
   "execution_count": 2,
   "id": "9f7af74f",
   "metadata": {},
   "outputs": [
    {
     "name": "stdout",
     "output_type": "stream",
     "text": [
      "(60000, 28, 28)\n",
      "(60000,)\n",
      "(10000, 28, 28)\n",
      "(10000,)\n"
     ]
    }
   ],
   "source": [
    "(x_train, y_train), (x_test, y_test) = mnist.load_data()\n",
    "print(x_train.shape)\n",
    "print(y_train.shape)\n",
    "print(x_test.shape)\n",
    "print(y_test.shape)"
   ]
  },
  {
   "cell_type": "markdown",
   "id": "916eaf24",
   "metadata": {},
   "source": [
    "# Before normalize, range in [0, 255]"
   ]
  },
  {
   "cell_type": "code",
   "execution_count": 3,
   "id": "bc3d34e7",
   "metadata": {},
   "outputs": [
    {
     "name": "stdout",
     "output_type": "stream",
     "text": [
      "[  1 154 253  90   0]\n",
      "[ 0 17 66 14 67]\n"
     ]
    }
   ],
   "source": [
    "print(x_train[0][10][10: 15])\n",
    "print(x_test[0][10][10: 15])"
   ]
  },
  {
   "cell_type": "markdown",
   "id": "db04472b",
   "metadata": {},
   "source": [
    "# Normalize\n",
    "- Note: Run following cell only once"
   ]
  },
  {
   "cell_type": "code",
   "execution_count": 4,
   "id": "5a125b93",
   "metadata": {},
   "outputs": [],
   "source": [
    "x_train = x_train / 255\n",
    "x_test = x_test / 255"
   ]
  },
  {
   "cell_type": "markdown",
   "id": "22975ccf",
   "metadata": {},
   "source": [
    "# After normalize, range in [0, 1]"
   ]
  },
  {
   "cell_type": "code",
   "execution_count": 5,
   "id": "53519935",
   "metadata": {},
   "outputs": [
    {
     "name": "stdout",
     "output_type": "stream",
     "text": [
      "[0.00392157 0.60392157 0.99215686 0.35294118 0.        ]\n",
      "[0.         0.06666667 0.25882353 0.05490196 0.2627451 ]\n"
     ]
    }
   ],
   "source": [
    "print(x_train[0][10][10: 15])\n",
    "print(x_test[0][10][10: 15])"
   ]
  },
  {
   "cell_type": "markdown",
   "id": "c7a72efd",
   "metadata": {},
   "source": [
    "# Keras Sequential API using Simple RNN"
   ]
  },
  {
   "cell_type": "code",
   "execution_count": 10,
   "id": "b886a8b0",
   "metadata": {},
   "outputs": [],
   "source": [
    "model = keras.Sequential([\n",
    "    layers.Input(shape=(None, 28), name='input_layer'),\n",
    "    layers.SimpleRNN(\n",
    "        256,\n",
    "        return_sequences=True,\n",
    "        activation='tanh',\n",
    "        name='rnn_layer1',\n",
    "    ),\n",
    "    layers.SimpleRNN(\n",
    "        256,\n",
    "        activation='tanh',\n",
    "        name='rnn_layer2',\n",
    "    ),\n",
    "    layers.Dense(10, name='output_layer'),\n",
    "], name=\"sequential_model\")"
   ]
  },
  {
   "cell_type": "markdown",
   "id": "a454361e",
   "metadata": {},
   "source": [
    "# model.summary "
   ]
  },
  {
   "cell_type": "code",
   "execution_count": 11,
   "id": "33f460d4",
   "metadata": {},
   "outputs": [
    {
     "data": {
      "text/html": [
       "<pre style=\"white-space:pre;overflow-x:auto;line-height:normal;font-family:Menlo,'DejaVu Sans Mono',consolas,'Courier New',monospace\"><span style=\"font-weight: bold\">Model: \"sequential_model\"</span>\n",
       "</pre>\n"
      ],
      "text/plain": [
       "\u001b[1mModel: \"sequential_model\"\u001b[0m\n"
      ]
     },
     "metadata": {},
     "output_type": "display_data"
    },
    {
     "data": {
      "text/html": [
       "<pre style=\"white-space:pre;overflow-x:auto;line-height:normal;font-family:Menlo,'DejaVu Sans Mono',consolas,'Courier New',monospace\">┏━━━━━━━━━━━━━━━━━━━━━━━━━━━━━━━━━┳━━━━━━━━━━━━━━━━━━━━━━━━┳━━━━━━━━━━━━━━━┓\n",
       "┃<span style=\"font-weight: bold\"> Layer (type)                    </span>┃<span style=\"font-weight: bold\"> Output Shape           </span>┃<span style=\"font-weight: bold\">       Param # </span>┃\n",
       "┡━━━━━━━━━━━━━━━━━━━━━━━━━━━━━━━━━╇━━━━━━━━━━━━━━━━━━━━━━━━╇━━━━━━━━━━━━━━━┩\n",
       "│ rnn_layer1 (<span style=\"color: #0087ff; text-decoration-color: #0087ff\">SimpleRNN</span>)          │ (<span style=\"color: #00d7ff; text-decoration-color: #00d7ff\">None</span>, <span style=\"color: #00d7ff; text-decoration-color: #00d7ff\">None</span>, <span style=\"color: #00af00; text-decoration-color: #00af00\">256</span>)      │        <span style=\"color: #00af00; text-decoration-color: #00af00\">72,960</span> │\n",
       "├─────────────────────────────────┼────────────────────────┼───────────────┤\n",
       "│ rnn_layer2 (<span style=\"color: #0087ff; text-decoration-color: #0087ff\">SimpleRNN</span>)          │ (<span style=\"color: #00d7ff; text-decoration-color: #00d7ff\">None</span>, <span style=\"color: #00af00; text-decoration-color: #00af00\">256</span>)            │       <span style=\"color: #00af00; text-decoration-color: #00af00\">131,328</span> │\n",
       "├─────────────────────────────────┼────────────────────────┼───────────────┤\n",
       "│ output_layer (<span style=\"color: #0087ff; text-decoration-color: #0087ff\">Dense</span>)            │ (<span style=\"color: #00d7ff; text-decoration-color: #00d7ff\">None</span>, <span style=\"color: #00af00; text-decoration-color: #00af00\">10</span>)             │         <span style=\"color: #00af00; text-decoration-color: #00af00\">2,570</span> │\n",
       "└─────────────────────────────────┴────────────────────────┴───────────────┘\n",
       "</pre>\n"
      ],
      "text/plain": [
       "┏━━━━━━━━━━━━━━━━━━━━━━━━━━━━━━━━━┳━━━━━━━━━━━━━━━━━━━━━━━━┳━━━━━━━━━━━━━━━┓\n",
       "┃\u001b[1m \u001b[0m\u001b[1mLayer (type)                   \u001b[0m\u001b[1m \u001b[0m┃\u001b[1m \u001b[0m\u001b[1mOutput Shape          \u001b[0m\u001b[1m \u001b[0m┃\u001b[1m \u001b[0m\u001b[1m      Param #\u001b[0m\u001b[1m \u001b[0m┃\n",
       "┡━━━━━━━━━━━━━━━━━━━━━━━━━━━━━━━━━╇━━━━━━━━━━━━━━━━━━━━━━━━╇━━━━━━━━━━━━━━━┩\n",
       "│ rnn_layer1 (\u001b[38;5;33mSimpleRNN\u001b[0m)          │ (\u001b[38;5;45mNone\u001b[0m, \u001b[38;5;45mNone\u001b[0m, \u001b[38;5;34m256\u001b[0m)      │        \u001b[38;5;34m72,960\u001b[0m │\n",
       "├─────────────────────────────────┼────────────────────────┼───────────────┤\n",
       "│ rnn_layer2 (\u001b[38;5;33mSimpleRNN\u001b[0m)          │ (\u001b[38;5;45mNone\u001b[0m, \u001b[38;5;34m256\u001b[0m)            │       \u001b[38;5;34m131,328\u001b[0m │\n",
       "├─────────────────────────────────┼────────────────────────┼───────────────┤\n",
       "│ output_layer (\u001b[38;5;33mDense\u001b[0m)            │ (\u001b[38;5;45mNone\u001b[0m, \u001b[38;5;34m10\u001b[0m)             │         \u001b[38;5;34m2,570\u001b[0m │\n",
       "└─────────────────────────────────┴────────────────────────┴───────────────┘\n"
      ]
     },
     "metadata": {},
     "output_type": "display_data"
    },
    {
     "data": {
      "text/html": [
       "<pre style=\"white-space:pre;overflow-x:auto;line-height:normal;font-family:Menlo,'DejaVu Sans Mono',consolas,'Courier New',monospace\"><span style=\"font-weight: bold\"> Total params: </span><span style=\"color: #00af00; text-decoration-color: #00af00\">206,858</span> (808.04 KB)\n",
       "</pre>\n"
      ],
      "text/plain": [
       "\u001b[1m Total params: \u001b[0m\u001b[38;5;34m206,858\u001b[0m (808.04 KB)\n"
      ]
     },
     "metadata": {},
     "output_type": "display_data"
    },
    {
     "data": {
      "text/html": [
       "<pre style=\"white-space:pre;overflow-x:auto;line-height:normal;font-family:Menlo,'DejaVu Sans Mono',consolas,'Courier New',monospace\"><span style=\"font-weight: bold\"> Trainable params: </span><span style=\"color: #00af00; text-decoration-color: #00af00\">206,858</span> (808.04 KB)\n",
       "</pre>\n"
      ],
      "text/plain": [
       "\u001b[1m Trainable params: \u001b[0m\u001b[38;5;34m206,858\u001b[0m (808.04 KB)\n"
      ]
     },
     "metadata": {},
     "output_type": "display_data"
    },
    {
     "data": {
      "text/html": [
       "<pre style=\"white-space:pre;overflow-x:auto;line-height:normal;font-family:Menlo,'DejaVu Sans Mono',consolas,'Courier New',monospace\"><span style=\"font-weight: bold\"> Non-trainable params: </span><span style=\"color: #00af00; text-decoration-color: #00af00\">0</span> (0.00 B)\n",
       "</pre>\n"
      ],
      "text/plain": [
       "\u001b[1m Non-trainable params: \u001b[0m\u001b[38;5;34m0\u001b[0m (0.00 B)\n"
      ]
     },
     "metadata": {},
     "output_type": "display_data"
    },
    {
     "name": "stdout",
     "output_type": "stream",
     "text": [
      "None\n"
     ]
    }
   ],
   "source": [
    "print(model.summary())"
   ]
  },
  {
   "cell_type": "markdown",
   "id": "aebfef8c",
   "metadata": {},
   "source": [
    "# model.compile"
   ]
  },
  {
   "cell_type": "code",
   "execution_count": 12,
   "id": "a178328c",
   "metadata": {},
   "outputs": [],
   "source": [
    "model.compile(\n",
    "    loss=keras.losses.SparseCategoricalCrossentropy(from_logits=True),\n",
    "    optimizer=keras.optimizers.Adam(learning_rate=0.001),\n",
    "    metrics=[\"accuracy\"],\n",
    ")"
   ]
  },
  {
   "cell_type": "markdown",
   "id": "9e11d516",
   "metadata": {},
   "source": [
    "# Note\n",
    "- If output layer `layers.Dense(10)` then use `from_logits=True`\n",
    "- If output layer `layers.Dense(10, activation='softmax')` then use `from_logits=False`, or just simply remove `from_logits=False`"
   ]
  },
  {
   "cell_type": "markdown",
   "id": "30a8e0ee",
   "metadata": {},
   "source": [
    "# Train the model using model.fit"
   ]
  },
  {
   "cell_type": "code",
   "execution_count": 13,
   "id": "35fbea58",
   "metadata": {},
   "outputs": [
    {
     "name": "stdout",
     "output_type": "stream",
     "text": [
      "Epoch 1/5\n",
      "1875/1875 - 42s - 23ms/step - accuracy: 0.8887 - loss: 0.3644\n",
      "Epoch 2/5\n",
      "1875/1875 - 40s - 21ms/step - accuracy: 0.9276 - loss: 0.2448\n",
      "Epoch 3/5\n",
      "1875/1875 - 39s - 21ms/step - accuracy: 0.9345 - loss: 0.2271\n",
      "Epoch 4/5\n",
      "1875/1875 - 38s - 20ms/step - accuracy: 0.9394 - loss: 0.2109\n",
      "Epoch 5/5\n",
      "1875/1875 - 40s - 21ms/step - accuracy: 0.9380 - loss: 0.2159\n"
     ]
    },
    {
     "data": {
      "text/plain": [
       "<keras.src.callbacks.history.History at 0x7f3250532400>"
      ]
     },
     "execution_count": 13,
     "metadata": {},
     "output_type": "execute_result"
    }
   ],
   "source": [
    "model.fit(x_train, y_train, batch_size=32, epochs=5, verbose=2)"
   ]
  },
  {
   "cell_type": "markdown",
   "id": "6529af37",
   "metadata": {},
   "source": [
    "# Note\n",
    "- model.fit above run in 3m19s (longest time so far)\n",
    "- And achieve accuracy 0.9380 (good)\n",
    "\n",
    "# Varients\n",
    "- SimpleRNN, GRU, LSTM are varients\n",
    "- To use GRU, just replace all \"SimpleRNN\" by \"GRU\"\n",
    "- To use LSTM, just replace all \"SimpleRNN\" by \"LSTM\""
   ]
  },
  {
   "cell_type": "markdown",
   "id": "25d3e72f",
   "metadata": {},
   "source": [
    "# Evaluate test data using model.evaluate"
   ]
  },
  {
   "cell_type": "code",
   "execution_count": 14,
   "id": "758002c2",
   "metadata": {},
   "outputs": [
    {
     "name": "stdout",
     "output_type": "stream",
     "text": [
      "313/313 - 3s - 10ms/step - accuracy: 0.9624 - loss: 0.1301\n"
     ]
    },
    {
     "data": {
      "text/plain": [
       "[0.13007856905460358, 0.9624000191688538]"
      ]
     },
     "execution_count": 14,
     "metadata": {},
     "output_type": "execute_result"
    }
   ],
   "source": [
    "model.evaluate(x_test, y_test, batch_size=32, verbose=2)"
   ]
  }
 ],
 "metadata": {
  "kernelspec": {
   "display_name": ".venv",
   "language": "python",
   "name": "python3"
  },
  "language_info": {
   "codemirror_mode": {
    "name": "ipython",
    "version": 3
   },
   "file_extension": ".py",
   "mimetype": "text/x-python",
   "name": "python",
   "nbconvert_exporter": "python",
   "pygments_lexer": "ipython3",
   "version": "3.9.18"
  }
 },
 "nbformat": 4,
 "nbformat_minor": 5
}
