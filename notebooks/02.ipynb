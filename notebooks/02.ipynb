{
 "cells": [
  {
   "cell_type": "markdown",
   "id": "2bb08155",
   "metadata": {},
   "source": [
    "# Purpose of this notebook\n",
    "- Learn tensorflow mathematical operations"
   ]
  },
  {
   "cell_type": "code",
   "execution_count": 1,
   "id": "db777fe8",
   "metadata": {},
   "outputs": [],
   "source": [
    "import tensorflow as tf"
   ]
  },
  {
   "cell_type": "markdown",
   "id": "a0bf6dd2",
   "metadata": {},
   "source": [
    "# tf.add"
   ]
  },
  {
   "cell_type": "code",
   "execution_count": 6,
   "id": "17b4d012",
   "metadata": {},
   "outputs": [
    {
     "name": "stdout",
     "output_type": "stream",
     "text": [
      "tf.Tensor([41 52 63], shape=(3,), dtype=int32)\n"
     ]
    }
   ],
   "source": [
    "x = tf.constant([1, 2, 3])\n",
    "y = tf.constant([40, 50, 60])\n",
    "z = tf.add(x, y)\n",
    "print(z)"
   ]
  },
  {
   "cell_type": "markdown",
   "id": "c8f7d627",
   "metadata": {},
   "source": [
    "# tf.subtract"
   ]
  },
  {
   "cell_type": "code",
   "execution_count": 5,
   "id": "4803306e",
   "metadata": {},
   "outputs": [
    {
     "name": "stdout",
     "output_type": "stream",
     "text": [
      "tf.Tensor([-39 -48 -57], shape=(3,), dtype=int32)\n"
     ]
    }
   ],
   "source": [
    "x = tf.constant([1, 2, 3])\n",
    "y = tf.constant([40, 50, 60])\n",
    "z = tf.subtract(x, y)\n",
    "print(z)"
   ]
  },
  {
   "cell_type": "markdown",
   "id": "17615b95",
   "metadata": {},
   "source": [
    "# tf.divide"
   ]
  },
  {
   "cell_type": "code",
   "execution_count": 7,
   "id": "54197b79",
   "metadata": {},
   "outputs": [
    {
     "name": "stdout",
     "output_type": "stream",
     "text": [
      "tf.Tensor([40. 25. 20.], shape=(3,), dtype=float64)\n"
     ]
    }
   ],
   "source": [
    "x = tf.constant([1, 2, 3])\n",
    "y = tf.constant([40, 50, 60])\n",
    "z = tf.divide(y, x)\n",
    "print(z)"
   ]
  },
  {
   "cell_type": "markdown",
   "id": "2fdad618",
   "metadata": {},
   "source": [
    "# tf.multiply"
   ]
  },
  {
   "cell_type": "code",
   "execution_count": 8,
   "id": "2a1d949b",
   "metadata": {},
   "outputs": [
    {
     "name": "stdout",
     "output_type": "stream",
     "text": [
      "tf.Tensor([ 40 100 180], shape=(3,), dtype=int32)\n"
     ]
    }
   ],
   "source": [
    "x = tf.constant([1, 2, 3])\n",
    "y = tf.constant([40, 50, 60])\n",
    "z = tf.multiply(x, y)\n",
    "print(z)"
   ]
  },
  {
   "cell_type": "markdown",
   "id": "291f6e7e",
   "metadata": {},
   "source": [
    "# tf.tensordot"
   ]
  },
  {
   "cell_type": "code",
   "execution_count": 9,
   "id": "80e9853f",
   "metadata": {},
   "outputs": [
    {
     "name": "stdout",
     "output_type": "stream",
     "text": [
      "tf.Tensor(158, shape=(), dtype=int32)\n"
     ]
    }
   ],
   "source": [
    "x = tf.constant([1, 2, 3])\n",
    "y = tf.constant([40, 50, 6])\n",
    "z = tf.tensordot(x, y, axes=1)\n",
    "print(z)"
   ]
  },
  {
   "cell_type": "markdown",
   "id": "a7e60f37",
   "metadata": {},
   "source": [
    "# tf.pow"
   ]
  },
  {
   "cell_type": "code",
   "execution_count": 11,
   "id": "3ad218ec",
   "metadata": {},
   "outputs": [
    {
     "name": "stdout",
     "output_type": "stream",
     "text": [
      "tf.Tensor([1 4 9], shape=(3,), dtype=int32)\n"
     ]
    }
   ],
   "source": [
    "x = tf.constant([1, 2, 3])\n",
    "print(tf.pow(x, 2))"
   ]
  },
  {
   "cell_type": "markdown",
   "id": "85b31981",
   "metadata": {},
   "source": [
    "# tf.matmul"
   ]
  },
  {
   "cell_type": "code",
   "execution_count": 19,
   "id": "50b38521",
   "metadata": {},
   "outputs": [
    {
     "name": "stdout",
     "output_type": "stream",
     "text": [
      "tf.Tensor(\n",
      "[[ 2.1261983  4.6701736  5.136496   2.8316314]\n",
      " [-2.5273232 -2.915297  -3.2464776 -2.1930473]], shape=(2, 4), dtype=float32)\n"
     ]
    }
   ],
   "source": [
    "x = tf.random.normal((2, 3))\n",
    "y = tf.random.normal((3, 4))\n",
    "z = tf.matmul(x, y)\n",
    "print(z)"
   ]
  }
 ],
 "metadata": {
  "kernelspec": {
   "display_name": ".venv",
   "language": "python",
   "name": "python3"
  },
  "language_info": {
   "codemirror_mode": {
    "name": "ipython",
    "version": 3
   },
   "file_extension": ".py",
   "mimetype": "text/x-python",
   "name": "python",
   "nbconvert_exporter": "python",
   "pygments_lexer": "ipython3",
   "version": "3.9.18"
  }
 },
 "nbformat": 4,
 "nbformat_minor": 5
}
