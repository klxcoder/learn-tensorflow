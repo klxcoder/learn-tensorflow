{
 "cells": [
  {
   "cell_type": "markdown",
   "id": "5417b723",
   "metadata": {},
   "source": [
    "# Purpose of this notebook\n",
    "- Learn tensorflow indexing"
   ]
  },
  {
   "cell_type": "code",
   "execution_count": 1,
   "id": "d573ec96",
   "metadata": {},
   "outputs": [],
   "source": [
    "import tensorflow as tf"
   ]
  },
  {
   "cell_type": "markdown",
   "id": "a8559973",
   "metadata": {},
   "source": [
    "# animals"
   ]
  },
  {
   "cell_type": "code",
   "execution_count": 4,
   "id": "d6925302",
   "metadata": {},
   "outputs": [],
   "source": [
    "animals = [\n",
    "    \"Antelope\", \"Bear\", \"Cat\", \"Dolphin\", \"Elephant\", \"Fox\", \"Giraffe\",\n",
    "    \"Hippopotamus\", \"Iguana\", \"Jaguar\", \"Kangaroo\", \"Lion\", \"Monkey\",\n",
    "    \"Newt\", \"Owl\", \"Penguin\", \"Quokka\", \"Rabbit\", \"Snake\", \"Tiger\",\n",
    "    \"Urial\", \"Vulture\", \"Whale\", \"Xerus\", \"Yak\", \"Zebra\"\n",
    "]"
   ]
  },
  {
   "cell_type": "code",
   "execution_count": 2,
   "id": "eafcfa4f",
   "metadata": {},
   "outputs": [],
   "source": [
    "from typing import Any"
   ]
  },
  {
   "cell_type": "markdown",
   "id": "94c4a836",
   "metadata": {},
   "source": [
    "# slice"
   ]
  },
  {
   "cell_type": "code",
   "execution_count": 10,
   "id": "a9d913cb",
   "metadata": {},
   "outputs": [
    {
     "name": "stdout",
     "output_type": "stream",
     "text": [
      "tf.Tensor(\n",
      "[b'Antelope' b'Bear' b'Cat' b'Dolphin' b'Elephant' b'Fox' b'Giraffe'\n",
      " b'Hippopotamus' b'Iguana' b'Jaguar' b'Kangaroo' b'Lion' b'Monkey' b'Newt'\n",
      " b'Owl' b'Penguin' b'Quokka' b'Rabbit' b'Snake' b'Tiger' b'Urial'\n",
      " b'Vulture' b'Whale' b'Xerus' b'Yak' b'Zebra'], shape=(26,), dtype=string)\n"
     ]
    }
   ],
   "source": [
    "\n",
    "x: Any = tf.constant(animals)\n",
    "print(x[:])"
   ]
  },
  {
   "cell_type": "code",
   "execution_count": 11,
   "id": "4f8667b3",
   "metadata": {},
   "outputs": [
    {
     "name": "stdout",
     "output_type": "stream",
     "text": [
      "tf.Tensor(\n",
      "[b'Bear' b'Cat' b'Dolphin' b'Elephant' b'Fox' b'Giraffe' b'Hippopotamus'\n",
      " b'Iguana' b'Jaguar' b'Kangaroo' b'Lion' b'Monkey' b'Newt' b'Owl'\n",
      " b'Penguin' b'Quokka' b'Rabbit' b'Snake' b'Tiger' b'Urial' b'Vulture'\n",
      " b'Whale' b'Xerus' b'Yak' b'Zebra'], shape=(25,), dtype=string)\n"
     ]
    }
   ],
   "source": [
    "\n",
    "x: Any = tf.constant(animals)\n",
    "print(x[1:])"
   ]
  },
  {
   "cell_type": "code",
   "execution_count": 5,
   "id": "3ccbb384",
   "metadata": {},
   "outputs": [
    {
     "name": "stdout",
     "output_type": "stream",
     "text": [
      "tf.Tensor([b'Bear' b'Cat'], shape=(2,), dtype=string)\n"
     ]
    }
   ],
   "source": [
    "x: Any = tf.constant(animals)\n",
    "print(x[1:3])"
   ]
  },
  {
   "cell_type": "markdown",
   "id": "d3dc4b79",
   "metadata": {},
   "source": [
    "# step 2"
   ]
  },
  {
   "cell_type": "code",
   "execution_count": 6,
   "id": "7b3679aa",
   "metadata": {},
   "outputs": [
    {
     "name": "stdout",
     "output_type": "stream",
     "text": [
      "tf.Tensor(\n",
      "[b'Antelope' b'Cat' b'Elephant' b'Giraffe' b'Iguana' b'Kangaroo' b'Monkey'\n",
      " b'Owl' b'Quokka' b'Snake' b'Urial' b'Whale' b'Yak'], shape=(13,), dtype=string)\n"
     ]
    }
   ],
   "source": [
    "x: Any = tf.constant(animals)\n",
    "print(x[::2])"
   ]
  },
  {
   "cell_type": "markdown",
   "id": "432f44a0",
   "metadata": {},
   "source": [
    "# Reverse"
   ]
  },
  {
   "cell_type": "code",
   "execution_count": 7,
   "id": "f9bcf79e",
   "metadata": {},
   "outputs": [
    {
     "name": "stdout",
     "output_type": "stream",
     "text": [
      "tf.Tensor(\n",
      "[b'Zebra' b'Yak' b'Xerus' b'Whale' b'Vulture' b'Urial' b'Tiger' b'Snake'\n",
      " b'Rabbit' b'Quokka' b'Penguin' b'Owl' b'Newt' b'Monkey' b'Lion'\n",
      " b'Kangaroo' b'Jaguar' b'Iguana' b'Hippopotamus' b'Giraffe' b'Fox'\n",
      " b'Elephant' b'Dolphin' b'Cat' b'Bear' b'Antelope'], shape=(26,), dtype=string)\n"
     ]
    }
   ],
   "source": [
    "x: Any = tf.constant(animals)\n",
    "print(x[::-1])"
   ]
  },
  {
   "cell_type": "markdown",
   "id": "333877e3",
   "metadata": {},
   "source": [
    "# 2D"
   ]
  },
  {
   "cell_type": "code",
   "execution_count": 8,
   "id": "cbff5757",
   "metadata": {},
   "outputs": [
    {
     "name": "stdout",
     "output_type": "stream",
     "text": [
      "tf.Tensor([5 4 3 2 1], shape=(5,), dtype=int32)\n"
     ]
    }
   ],
   "source": [
    "x: Any = tf.constant([\n",
    "    [1, 2, 3, 4, 5],\n",
    "    [6, 7, 8, 9, 10],\n",
    "])\n",
    "print(x[0, ::-1])"
   ]
  },
  {
   "cell_type": "code",
   "execution_count": 12,
   "id": "912e7760",
   "metadata": {},
   "outputs": [
    {
     "name": "stdout",
     "output_type": "stream",
     "text": [
      "tf.Tensor(\n",
      "[[8 9]\n",
      " [3 4]], shape=(2, 2), dtype=int32)\n"
     ]
    }
   ],
   "source": [
    "x: Any = tf.constant([\n",
    "    [1, 2, 3, 4, 5],\n",
    "    [6, 7, 8, 9, 10],\n",
    "])\n",
    "print(x[::-1, 2:4])"
   ]
  }
 ],
 "metadata": {
  "kernelspec": {
   "display_name": ".venv",
   "language": "python",
   "name": "python3"
  },
  "language_info": {
   "codemirror_mode": {
    "name": "ipython",
    "version": 3
   },
   "file_extension": ".py",
   "mimetype": "text/x-python",
   "name": "python",
   "nbconvert_exporter": "python",
   "pygments_lexer": "ipython3",
   "version": "3.9.18"
  }
 },
 "nbformat": 4,
 "nbformat_minor": 5
}
