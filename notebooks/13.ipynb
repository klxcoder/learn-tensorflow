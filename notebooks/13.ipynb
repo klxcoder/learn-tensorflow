{
 "cells": [
  {
   "cell_type": "markdown",
   "id": "8f825c61",
   "metadata": {},
   "source": [
    "# Purpose of this notebook\n",
    "- Use Bidirectional combine with SimpleRNN, GRU, LSTM to solve mnist"
   ]
  },
  {
   "cell_type": "markdown",
   "id": "b200e50b",
   "metadata": {},
   "source": [
    "# Import"
   ]
  },
  {
   "cell_type": "code",
   "execution_count": 1,
   "id": "90dc9095",
   "metadata": {},
   "outputs": [],
   "source": [
    "from tensorflow import keras # type: ignore\n",
    "from tensorflow.keras import layers, regularizers # type: ignore\n",
    "from tensorflow.keras.datasets import mnist # type: ignore"
   ]
  },
  {
   "cell_type": "markdown",
   "id": "0ba7034d",
   "metadata": {},
   "source": [
    "# Load data"
   ]
  },
  {
   "cell_type": "code",
   "execution_count": 2,
   "id": "9f7af74f",
   "metadata": {},
   "outputs": [
    {
     "name": "stdout",
     "output_type": "stream",
     "text": [
      "(60000, 28, 28)\n",
      "(60000,)\n",
      "(10000, 28, 28)\n",
      "(10000,)\n"
     ]
    }
   ],
   "source": [
    "(x_train, y_train), (x_test, y_test) = mnist.load_data()\n",
    "print(x_train.shape)\n",
    "print(y_train.shape)\n",
    "print(x_test.shape)\n",
    "print(y_test.shape)"
   ]
  },
  {
   "cell_type": "markdown",
   "id": "916eaf24",
   "metadata": {},
   "source": [
    "# Before normalize, range in [0, 255]"
   ]
  },
  {
   "cell_type": "code",
   "execution_count": 3,
   "id": "bc3d34e7",
   "metadata": {},
   "outputs": [
    {
     "name": "stdout",
     "output_type": "stream",
     "text": [
      "[  1 154 253  90   0]\n",
      "[ 0 17 66 14 67]\n"
     ]
    }
   ],
   "source": [
    "print(x_train[0][10][10: 15])\n",
    "print(x_test[0][10][10: 15])"
   ]
  },
  {
   "cell_type": "markdown",
   "id": "db04472b",
   "metadata": {},
   "source": [
    "# Normalize\n",
    "- Note: Run following cell only once"
   ]
  },
  {
   "cell_type": "code",
   "execution_count": 4,
   "id": "5a125b93",
   "metadata": {},
   "outputs": [],
   "source": [
    "x_train = x_train / 255\n",
    "x_test = x_test / 255"
   ]
  },
  {
   "cell_type": "markdown",
   "id": "22975ccf",
   "metadata": {},
   "source": [
    "# After normalize, range in [0, 1]"
   ]
  },
  {
   "cell_type": "code",
   "execution_count": 5,
   "id": "53519935",
   "metadata": {},
   "outputs": [
    {
     "name": "stdout",
     "output_type": "stream",
     "text": [
      "[0.00392157 0.60392157 0.99215686 0.35294118 0.        ]\n",
      "[0.         0.06666667 0.25882353 0.05490196 0.2627451 ]\n"
     ]
    }
   ],
   "source": [
    "print(x_train[0][10][10: 15])\n",
    "print(x_test[0][10][10: 15])"
   ]
  },
  {
   "cell_type": "markdown",
   "id": "c7a72efd",
   "metadata": {},
   "source": [
    "# Keras Sequential API using Simple RNN"
   ]
  },
  {
   "cell_type": "code",
   "execution_count": 6,
   "id": "b886a8b0",
   "metadata": {},
   "outputs": [],
   "source": [
    "model = keras.Sequential([\n",
    "    layers.Input(shape=(None, 28), name='input_layer'),\n",
    "    layers.Bidirectional(\n",
    "        layers.SimpleRNN(\n",
    "            256,\n",
    "            return_sequences=True,\n",
    "            activation='tanh',\n",
    "            name='rnn_layer1',\n",
    "        )\n",
    "    ),\n",
    "    layers.Bidirectional(\n",
    "        layers.SimpleRNN(\n",
    "            256,\n",
    "            activation='tanh',\n",
    "            name='rnn_layer2',\n",
    "        )\n",
    "    ),\n",
    "    layers.Dense(10, name='output_layer'),\n",
    "], name=\"sequential_model\")"
   ]
  },
  {
   "cell_type": "markdown",
   "id": "a454361e",
   "metadata": {},
   "source": [
    "# model.summary "
   ]
  },
  {
   "cell_type": "code",
   "execution_count": 7,
   "id": "33f460d4",
   "metadata": {},
   "outputs": [
    {
     "data": {
      "text/html": [
       "<pre style=\"white-space:pre;overflow-x:auto;line-height:normal;font-family:Menlo,'DejaVu Sans Mono',consolas,'Courier New',monospace\"><span style=\"font-weight: bold\">Model: \"sequential_model\"</span>\n",
       "</pre>\n"
      ],
      "text/plain": [
       "\u001b[1mModel: \"sequential_model\"\u001b[0m\n"
      ]
     },
     "metadata": {},
     "output_type": "display_data"
    },
    {
     "data": {
      "text/html": [
       "<pre style=\"white-space:pre;overflow-x:auto;line-height:normal;font-family:Menlo,'DejaVu Sans Mono',consolas,'Courier New',monospace\">┏━━━━━━━━━━━━━━━━━━━━━━━━━━━━━━━━━┳━━━━━━━━━━━━━━━━━━━━━━━━┳━━━━━━━━━━━━━━━┓\n",
       "┃<span style=\"font-weight: bold\"> Layer (type)                    </span>┃<span style=\"font-weight: bold\"> Output Shape           </span>┃<span style=\"font-weight: bold\">       Param # </span>┃\n",
       "┡━━━━━━━━━━━━━━━━━━━━━━━━━━━━━━━━━╇━━━━━━━━━━━━━━━━━━━━━━━━╇━━━━━━━━━━━━━━━┩\n",
       "│ bidirectional (<span style=\"color: #0087ff; text-decoration-color: #0087ff\">Bidirectional</span>)   │ (<span style=\"color: #00d7ff; text-decoration-color: #00d7ff\">None</span>, <span style=\"color: #00d7ff; text-decoration-color: #00d7ff\">None</span>, <span style=\"color: #00af00; text-decoration-color: #00af00\">512</span>)      │       <span style=\"color: #00af00; text-decoration-color: #00af00\">145,920</span> │\n",
       "├─────────────────────────────────┼────────────────────────┼───────────────┤\n",
       "│ bidirectional_1 (<span style=\"color: #0087ff; text-decoration-color: #0087ff\">Bidirectional</span>) │ (<span style=\"color: #00d7ff; text-decoration-color: #00d7ff\">None</span>, <span style=\"color: #00af00; text-decoration-color: #00af00\">512</span>)            │       <span style=\"color: #00af00; text-decoration-color: #00af00\">393,728</span> │\n",
       "├─────────────────────────────────┼────────────────────────┼───────────────┤\n",
       "│ output_layer (<span style=\"color: #0087ff; text-decoration-color: #0087ff\">Dense</span>)            │ (<span style=\"color: #00d7ff; text-decoration-color: #00d7ff\">None</span>, <span style=\"color: #00af00; text-decoration-color: #00af00\">10</span>)             │         <span style=\"color: #00af00; text-decoration-color: #00af00\">5,130</span> │\n",
       "└─────────────────────────────────┴────────────────────────┴───────────────┘\n",
       "</pre>\n"
      ],
      "text/plain": [
       "┏━━━━━━━━━━━━━━━━━━━━━━━━━━━━━━━━━┳━━━━━━━━━━━━━━━━━━━━━━━━┳━━━━━━━━━━━━━━━┓\n",
       "┃\u001b[1m \u001b[0m\u001b[1mLayer (type)                   \u001b[0m\u001b[1m \u001b[0m┃\u001b[1m \u001b[0m\u001b[1mOutput Shape          \u001b[0m\u001b[1m \u001b[0m┃\u001b[1m \u001b[0m\u001b[1m      Param #\u001b[0m\u001b[1m \u001b[0m┃\n",
       "┡━━━━━━━━━━━━━━━━━━━━━━━━━━━━━━━━━╇━━━━━━━━━━━━━━━━━━━━━━━━╇━━━━━━━━━━━━━━━┩\n",
       "│ bidirectional (\u001b[38;5;33mBidirectional\u001b[0m)   │ (\u001b[38;5;45mNone\u001b[0m, \u001b[38;5;45mNone\u001b[0m, \u001b[38;5;34m512\u001b[0m)      │       \u001b[38;5;34m145,920\u001b[0m │\n",
       "├─────────────────────────────────┼────────────────────────┼───────────────┤\n",
       "│ bidirectional_1 (\u001b[38;5;33mBidirectional\u001b[0m) │ (\u001b[38;5;45mNone\u001b[0m, \u001b[38;5;34m512\u001b[0m)            │       \u001b[38;5;34m393,728\u001b[0m │\n",
       "├─────────────────────────────────┼────────────────────────┼───────────────┤\n",
       "│ output_layer (\u001b[38;5;33mDense\u001b[0m)            │ (\u001b[38;5;45mNone\u001b[0m, \u001b[38;5;34m10\u001b[0m)             │         \u001b[38;5;34m5,130\u001b[0m │\n",
       "└─────────────────────────────────┴────────────────────────┴───────────────┘\n"
      ]
     },
     "metadata": {},
     "output_type": "display_data"
    },
    {
     "data": {
      "text/html": [
       "<pre style=\"white-space:pre;overflow-x:auto;line-height:normal;font-family:Menlo,'DejaVu Sans Mono',consolas,'Courier New',monospace\"><span style=\"font-weight: bold\"> Total params: </span><span style=\"color: #00af00; text-decoration-color: #00af00\">544,778</span> (2.08 MB)\n",
       "</pre>\n"
      ],
      "text/plain": [
       "\u001b[1m Total params: \u001b[0m\u001b[38;5;34m544,778\u001b[0m (2.08 MB)\n"
      ]
     },
     "metadata": {},
     "output_type": "display_data"
    },
    {
     "data": {
      "text/html": [
       "<pre style=\"white-space:pre;overflow-x:auto;line-height:normal;font-family:Menlo,'DejaVu Sans Mono',consolas,'Courier New',monospace\"><span style=\"font-weight: bold\"> Trainable params: </span><span style=\"color: #00af00; text-decoration-color: #00af00\">544,778</span> (2.08 MB)\n",
       "</pre>\n"
      ],
      "text/plain": [
       "\u001b[1m Trainable params: \u001b[0m\u001b[38;5;34m544,778\u001b[0m (2.08 MB)\n"
      ]
     },
     "metadata": {},
     "output_type": "display_data"
    },
    {
     "data": {
      "text/html": [
       "<pre style=\"white-space:pre;overflow-x:auto;line-height:normal;font-family:Menlo,'DejaVu Sans Mono',consolas,'Courier New',monospace\"><span style=\"font-weight: bold\"> Non-trainable params: </span><span style=\"color: #00af00; text-decoration-color: #00af00\">0</span> (0.00 B)\n",
       "</pre>\n"
      ],
      "text/plain": [
       "\u001b[1m Non-trainable params: \u001b[0m\u001b[38;5;34m0\u001b[0m (0.00 B)\n"
      ]
     },
     "metadata": {},
     "output_type": "display_data"
    },
    {
     "name": "stdout",
     "output_type": "stream",
     "text": [
      "None\n"
     ]
    }
   ],
   "source": [
    "print(model.summary())"
   ]
  },
  {
   "cell_type": "markdown",
   "id": "aebfef8c",
   "metadata": {},
   "source": [
    "# model.compile"
   ]
  },
  {
   "cell_type": "code",
   "execution_count": 8,
   "id": "a178328c",
   "metadata": {},
   "outputs": [],
   "source": [
    "model.compile(\n",
    "    loss=keras.losses.SparseCategoricalCrossentropy(from_logits=True),\n",
    "    optimizer=keras.optimizers.Adam(learning_rate=0.001),\n",
    "    metrics=[\"accuracy\"],\n",
    ")"
   ]
  },
  {
   "cell_type": "markdown",
   "id": "9e11d516",
   "metadata": {},
   "source": [
    "# Note\n",
    "- If output layer `layers.Dense(10)` then use `from_logits=True`\n",
    "- If output layer `layers.Dense(10, activation='softmax')` then use `from_logits=False`, or just simply remove `from_logits=False`"
   ]
  },
  {
   "cell_type": "markdown",
   "id": "30a8e0ee",
   "metadata": {},
   "source": [
    "# Train the model using model.fit"
   ]
  },
  {
   "cell_type": "code",
   "execution_count": 9,
   "id": "35fbea58",
   "metadata": {},
   "outputs": [
    {
     "name": "stdout",
     "output_type": "stream",
     "text": [
      "Epoch 1/5\n",
      "1875/1875 - 61s - 32ms/step - accuracy: 0.8988 - loss: 0.3376\n",
      "Epoch 2/5\n",
      "1875/1875 - 55s - 29ms/step - accuracy: 0.9327 - loss: 0.2254\n",
      "Epoch 3/5\n",
      "1875/1875 - 56s - 30ms/step - accuracy: 0.9334 - loss: 0.2218\n",
      "Epoch 4/5\n",
      "1875/1875 - 56s - 30ms/step - accuracy: 0.9398 - loss: 0.2008\n",
      "Epoch 5/5\n",
      "1875/1875 - 56s - 30ms/step - accuracy: 0.9472 - loss: 0.1777\n"
     ]
    },
    {
     "data": {
      "text/plain": [
       "<keras.src.callbacks.history.History at 0x7f748935ca00>"
      ]
     },
     "execution_count": 9,
     "metadata": {},
     "output_type": "execute_result"
    }
   ],
   "source": [
    "model.fit(x_train, y_train, batch_size=32, epochs=5, verbose=2)"
   ]
  },
  {
   "cell_type": "markdown",
   "id": "6529af37",
   "metadata": {},
   "source": [
    "# Note\n",
    "- model.fit above run in 4m43s (longest time so far)\n",
    "- And achieve accuracy 0.9472 (good)\n",
    "\n",
    "# Bidirectional can combine with SimpleRNN, GRU, LSTM\n",
    "- layers.Bidirectional(layers.SimpleRNN(64))\n",
    "- layers.Bidirectional(layers.GRU(64))\n",
    "- layers.Bidirectional(layers.LSTM(64))"
   ]
  },
  {
   "cell_type": "markdown",
   "id": "25d3e72f",
   "metadata": {},
   "source": [
    "# Evaluate test data using model.evaluate"
   ]
  },
  {
   "cell_type": "code",
   "execution_count": 10,
   "id": "758002c2",
   "metadata": {},
   "outputs": [
    {
     "name": "stdout",
     "output_type": "stream",
     "text": [
      "313/313 - 4s - 14ms/step - accuracy: 0.9361 - loss: 0.2103\n"
     ]
    },
    {
     "data": {
      "text/plain": [
       "[0.2103237360715866, 0.9361000061035156]"
      ]
     },
     "execution_count": 10,
     "metadata": {},
     "output_type": "execute_result"
    }
   ],
   "source": [
    "model.evaluate(x_test, y_test, batch_size=32, verbose=2)"
   ]
  }
 ],
 "metadata": {
  "kernelspec": {
   "display_name": ".venv",
   "language": "python",
   "name": "python3"
  },
  "language_info": {
   "codemirror_mode": {
    "name": "ipython",
    "version": 3
   },
   "file_extension": ".py",
   "mimetype": "text/x-python",
   "name": "python",
   "nbconvert_exporter": "python",
   "pygments_lexer": "ipython3",
   "version": "3.9.18"
  }
 },
 "nbformat": 4,
 "nbformat_minor": 5
}
